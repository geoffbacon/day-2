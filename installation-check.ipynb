{
 "cells": [
  {
   "cell_type": "markdown",
   "metadata": {},
   "source": [
    "# Installation Check\n",
    "\n",
    "This notebook is a simple way to test whether Python has been properly installed on your machine. If you receive no errors in this notebook, then your computer is ready to run the materials for this workshop! If you do receive an error, read the message closely since it offers clues to resolving the issue.\n",
    "\n",
    "Running the code in this notebook is relatively easy. Click on the cell you wish to run (a segment of code with a gray background) in order to highlight it. Then either click the \"Play\" button in the toolbar above the code window or press CTRL+RETURN on your keyboard."
   ]
  },
  {
   "cell_type": "markdown",
   "metadata": {},
   "source": [
    "### Python Version\n",
    "\n",
    "A quick check to see make sure that you are running Python 3. If you're accidentally running Python 2, please uninstall Anaconda for Python 2 and install the Python 3 version."
   ]
  },
  {
   "cell_type": "code",
   "execution_count": null,
   "metadata": {},
   "outputs": [],
   "source": [
    "import sys\n",
    "version = sys.version_info.major\n",
    "if version == 2:\n",
    "    print('I am Python 2')\n",
    "else:\n",
    "    print('I am Python 3')"
   ]
  },
  {
   "cell_type": "markdown",
   "metadata": {},
   "source": [
    "### Required Packages\n",
    "\n",
    "If you installed Python through the Anaconda platform, then the packages below should already be installed and Python should be able to find them."
   ]
  },
  {
   "cell_type": "code",
   "execution_count": null,
   "metadata": {},
   "outputs": [],
   "source": [
    "import os\n",
    "import numpy\n",
    "import matplotlib\n",
    "import pandas\n",
    "import sklearn\n",
    "import nltk\n",
    "\n",
    "print(\"Success!\")"
   ]
  }
 ],
 "metadata": {
  "anaconda-cloud": {},
  "kernelspec": {
   "display_name": "Python 3",
   "language": "python",
   "name": "python3"
  },
  "language_info": {
   "codemirror_mode": {
    "name": "ipython",
    "version": 3
   },
   "file_extension": ".py",
   "mimetype": "text/x-python",
   "name": "python",
   "nbconvert_exporter": "python",
   "pygments_lexer": "ipython3",
   "version": "3.6.1"
  }
 },
 "nbformat": 4,
 "nbformat_minor": 1
}
